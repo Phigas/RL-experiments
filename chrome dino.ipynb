{
 "cells": [
  {
   "cell_type": "markdown",
   "metadata": {},
   "source": [
    "# Chrome Dinosaur game reinforcement learning"
   ]
  },
  {
   "cell_type": "markdown",
   "metadata": {},
   "source": [
    "## 1. Install dependencies"
   ]
  },
  {
   "cell_type": "code",
   "execution_count": 1,
   "metadata": {},
   "outputs": [],
   "source": [
    "# for super fast screen capture\n",
    "from mss import mss\n",
    "# for fast button presses\n",
    "import pydirectinput\n",
    "import cv2 as cv\n",
    "import numpy as np\n",
    "# for ocr (optical character recognition)\n",
    "import pytesseract\n",
    "from matplotlib import pyplot as plt\n",
    "import time\n",
    "# base env class\n",
    "from gym import Env\n",
    "from gym.spaces import Box, Discrete"
   ]
  },
  {
   "cell_type": "markdown",
   "metadata": {},
   "source": [
    "## 2. Build custom environment"
   ]
  },
  {
   "cell_type": "markdown",
   "metadata": {},
   "source": [
    "### 2.1 Build env"
   ]
  },
  {
   "cell_type": "code",
   "execution_count": 2,
   "metadata": {},
   "outputs": [],
   "source": [
    "class WebGame(Env):\n",
    "    def __init__(self) -> None:\n",
    "        super().__init__()\n",
    "        \n",
    "        # === Define spaces\n",
    "        self.observation_space = Box(low=0, high=255, shape=(1,83,100), dtype=np.uint8)\n",
    "        # can be 0, 1 or 2\n",
    "        # 0 = up, 1 = down, 2 = no op\n",
    "        self.action_space = Discrete(3)\n",
    "\n",
    "        # === Define extraction parameters\n",
    "        self.cap = mss()\n",
    "        self.game_location = {'top': 300, 'left': 0, 'width': 600, 'height': 500}\n",
    "        self.done_location = {'top': 405, 'left': 630, 'width': 660, 'height': 70}\n",
    "        \n",
    "    def step(self, action):\n",
    "        # take action\n",
    "        action_map = {\n",
    "            0: 'up',\n",
    "            1: 'down',\n",
    "            # 2 is no op\n",
    "        }\n",
    "        \n",
    "        if action != 2:\n",
    "            pydirectinput.press(action_map[action])\n",
    "        \n",
    "        # get infos\n",
    "        done = self.get_done()\n",
    "        obs = self.get_observation()\n",
    "        \n",
    "        # reward for every frame alive\n",
    "        if done:\n",
    "            reward = 0\n",
    "        else:\n",
    "            reward = 1\n",
    "        \n",
    "        info = {}\n",
    "        \n",
    "        return obs, reward, done, info\n",
    "    \n",
    "    def render(self):\n",
    "        # omiting function\n",
    "        pass\n",
    "    \n",
    "    def reset(self):\n",
    "        time.sleep(2)\n",
    "        \n",
    "        # this is really to make sure we are tabbed into the game\n",
    "        pydirectinput.click(150, 150)\n",
    "        \n",
    "        pydirectinput.press('space')\n",
    "    \n",
    "    # non standart functions\n",
    "    def get_observation(self):\n",
    "        # get screenshot\n",
    "        obs = np.array(self.cap.grab(self.game_location))\n",
    "        \n",
    "        # channels are BGRA\n",
    "        obs = obs[..., :3]\n",
    "        \n",
    "        obs = cv.cvtColor(obs, cv.COLOR_BGR2GRAY)\n",
    "        \n",
    "        obs = cv.resize(obs, (100, 83))\n",
    "        obs = np.expand_dims(obs, -1)\n",
    "        \n",
    "        return obs\n",
    "    \n",
    "    def close(self) -> None:\n",
    "        return super().close()\n",
    "    \n",
    "    def get_done(self):\n",
    "        done_cap = np.array(self.cap.grab(self.done_location))\n",
    "        done_cap = done_cap[..., :3]\n",
    "        \n",
    "        # search for these strings\n",
    "        done_strings = ['GAME', 'GAHE']\n",
    "        \n",
    "        done = False\n",
    "        res = pytesseract.image_to_string(done_cap)[:4]\n",
    "        if res in done_strings:\n",
    "            done = True\n",
    "        \n",
    "        return done"
   ]
  },
  {
   "cell_type": "code",
   "execution_count": 3,
   "metadata": {},
   "outputs": [],
   "source": [
    "env = WebGame()"
   ]
  },
  {
   "cell_type": "code",
   "execution_count": 6,
   "metadata": {},
   "outputs": [
    {
     "data": {
      "text/plain": [
       "<matplotlib.image.AxesImage at 0x24f83b04488>"
      ]
     },
     "execution_count": 6,
     "metadata": {},
     "output_type": "execute_result"
    },
    {
     "data": {
      "image/png": "[encoded data removed]",
      "image/svg+xml": "<?xml version=\"1.0\" encoding=\"utf-8\" standalone=\"no\"?>\n<!DOCTYPE svg PUBLIC \"-//W3C//DTD SVG 1.1//EN\"\n  \"http://www.w3.org/Graphics/SVG/1.1/DTD/svg11.dtd\">\n<svg xmlns:xlink=\"http://www.w3.org/1999/xlink\" width=\"296.100904pt\" height=\"251.007464pt\" viewBox=\"0 0 296.100904 251.007464\" xmlns=\"http://www.w3.org/2000/svg\" version=\"1.1\">\n <metadata>\n  <rdf:RDF xmlns:dc=\"http://purl.org/dc/elements/1.1/\" xmlns:cc=\"http://creativecommons.org/ns#\" xmlns:rdf=\"http://www.w3.org/1999/02/22-rdf-syntax-ns#\">\n   <cc:Work>\n    <dc:type rdf:resource=\"http://purl.org/dc/dcmitype/StillImage\"/>\n    <dc:date>2022-08-06T20:39:43.182428</dc:date>\n    <dc:format>image/svg+xml</dc:format>\n    <dc:creator>\n     <cc:Agent>\n      <dc:title>Matplotlib v3.5.2, https://matplotlib.org/</dc:title>\n     </cc:Agent>\n    </dc:creator>\n   </cc:Work>\n  </rdf:RDF>\n </metadata>\n <defs>\n  <style type=\"text/css\">*{stroke-linejoin: round; stroke-linecap: butt}</style>\n </defs>\n <g id=\"figure_1\">\n  <g id=\"patch_1\">\n   <path d=\"M 0 251.007464 \nL 296.100904 251.007464 \nL 296.100904 0 \nL 0 0 \nL 0 251.007464 \nz\n\" style=\"fill: none\"/>\n  </g>\n  <g id=\"axes_1\">\n   <g id=\"patch_2\">\n    <path d=\"M 26.925 227.129339 \nL 288.900904 227.129339 \nL 288.900904 9.689339 \nL 26.925 9.689339 \nz\n\" style=\"fill: #ffffff\"/>\n   </g>\n   <g clip-path=\"url(#pda563d78f9)\">\n    <image xlink:href=\"data:image/png;base64,\niVBORw0KGgoAAAANSUhEUgAAAQYAAADaCAYAAABEvuzcAAAm70lEQVR4nO2dWW8b1xXH/7MPhxwuWq3FtlwnsYuiaNq4D+1b0YeiH6VP/U7t5yjQAEGaJjDQAEnT2E68SNZCivs6ex+Ec3M5Q0qULFKLzw8wbJMcznBm7n/OPfcsiuM4Cc5BkiTi7yRJEMex+DuO4/N81ZkYhgFN0y71OxnmMlEUBaZpwrKsS/k+GkO+7yMIAjHeFo1+JXtlGOZUFEUZ+3vRsDAwzDVCURQkSQJVVWEYxpUdBwsDw1wzFEWBrutXOo1emDAoiiLU8LLnTYqiQFVVABD+DhlVVcX7qqqKY6HXgiBAGIZXNp9jmElc1TQCWJAwKIoCy7JgGAaCIIDneZc6CA3DgOM4AIDRaDT2/YqiwLZtFAoFqKoKx3FgmiZM04TjOFAUBbu7u9jf32dhYK6cqxQDmYUJg2EYwnPr+/6lDkJd12HbNgAgDEN4njf2vmmaKBQKMAwDrusin8/Dtm2Uy2UoioJ+v4+Dg4NLOx6GuenMVRjoyaxpGhzHgWEYMAwDqqoiiiL4vg/f9995P/RdiqIgiqLM+0EQYDAYQNdPfq7v+zBNUwhIp9Nha4FhJOYqDIVCASsrK1BVFZZlQdd18USP4xjHx8doNBrvvJ8gCNDpdIQwyIM8SRKMRiMEQQBFUVCv14WfgZw7lz21YZibztyEgQaeaZrQdV38IcdfGIbQdR2qqr6zQ/Ks4KooiiZaEgzDTGZuwpAkCQaDAWq1GjRNg23bYl2WViccx8Hm5iZ830er1bqUaQXDMO/OXKcS/X4fg8EAmqYhn88L68E0TSiKgkKhAMdxMBgMMBwOWRgY5pow91UJiisIw1BMGwBA0zQR4cUwzPViIcuVcRzD8zz4vj/m+DNNE/l8fhGHwDDMOVhY5GMYhmP/V1UVQRCI7EyGYa4PV5YrQc7JZrMJz/MQBMGFv6tYLGJtbQ2apqFWq6HZbI6JjRwSTSsYuVwOlUoFqqqi2+1yLAPDSFypMLRaLXS7XSRJkrEozsPa2hp+97vfQdd1PH36FK1WaywkmjLVaD9xHKNYLOLRo0dwHAcvXrxAr9fjJU3mWiDXPLkqrjS78rLiC8hfYZrmqc5MOQ6dwrQNw7g28ekMky6EdFnQ/W6a5tjrFHCY3tetSLuu1Wr46quvoKoqDg4OMpGPtCoiZ152u108e/YMpmmiXq/zNIK5NiRJIh6al3Vf6rqOX/7yl3jy5IlIDQCAZ8+e4fPPP0ev1xv//KXs9YppNptotVoAJiut7OCkvweDAd68eTN1G4a5Cug+jOP4nfxuaVRVxYcffog///nPY2Xo/vGPf+DLL7/MTOVvhTDMMrDT77MYMNeZ0/wMtNxPsUDkNyOovADlJ+VyOTGFeP36NUzThG3b0HUd3W53omVyK4SBYd4nFEWB4zhwHAdhGKLT6YxFDZumiZ2dHWxubqJcLuP+/fswTROvXr3C3/72N1iWhbt376JUKuHZs2cTI47fC2FIOxeTJJn4GsPcFHRdF1OCtMNdVVW4rovl5WWsrq7iwYMHsCwLP/74I168eCFylnq9HhqNxsQFgFsvDOSNtW17LAU7l8thaWkJuq6j3W6PLXEyzHUmSRJ4nieylNMDOwxDVKtVRFGEw8ND1Go1GIaBH374Qdz/+/v7aLVaaLVa76cwABDVmsgJGQQBXNfFhx9+KOIYOp0OxzEwN4bhcIjRaDTRVxYEAd68eYO9vT2oqirqjgRBIBya/X5fFEy6UmGQTffLfjLT+qyiKBMbdVCAUxRFoh4E1aGkClMMc1M4y3FOD7/TOKs51EJrPmqahiiKLr3Dzvr6On7xi19A13X873//w48//jj2vmmacF0XcRyj2+0COAmKohRwzvBkmHHmLgwUkqzruqgSfZnrswBQKpXw+PFjmKaJWq2Gly9fjgkPLdnEcTxWRUrTtLE8CoZhTpirMJAoUDFYy7IQRRFs20YURaLU+7vS7/fx5s0bGIaBTqeTed/zPLTbbcRxLCpUe56HarUK27YzUV8M876jzLOprWyub2xsoFgsim2jKMLBwQGq1erUacWsTW2pbwSVgh8Oh2NJVGStACcVoqMoElaEqqqZXhQMMyvc1PYCyB2f5L4ScjHYy2A0GmE0Gk18jxwx6enLPKY0DHOVnDUtTndpk0UnHdczV2Gg5CUAOD4+FiY7FYMdjUZiWpEO62QYZnYURcHa2hq2t7fHHriapglr+fDwEIeHhwjDEKPRCGEYjnXVNk1TfHbuwkDiQAEZ8g+xLEv4Hc4qAc8wzOmsr6/jk08+QS6XE68ZhiHKJ/7nP/8R8Q9hGIqHNln2tm2LVo9XtlxJQkA+isueS2maBsuyRBAHzdfS5tS0hBTySyiKIqYdVPdB07TMsSdJMqbO1GWL/RbMovA8D/1+fyxT0jAM8f/hcCgewunSBIqiII5jEey0EGEwDAMbGxsolUpot9s4ODgQA4cyuy7bWnAcB/fv34frumg2m6hWq8KEkpNGqIx9qVRCEARoNpsYjUYoFovY3NwEcGKC1et1OI6De/fuIZ/Pi5L3tLoSRRGKxSI2NjagaRpevXqF3d1dFgZmYRwcHOCzzz4bc9iT8x0AWq2WiPBNp1nHcTzWwmEhwiAndcRxjKOjI3Ew85o+GIaBlZUVVCoVJEkiMtAmZZJZlgXXdTEajUQAlG3bWFpagqqqotaDYRhYWlpCqVRCr9dDq9USTlTf9+G6LjY2NqDrOur1OleGYhZGkiRot9tot9vn3o6QHfILEYYoikSx1avISSAfB1koszAcDnF8fAxFUTAcDk/9LK2KqKqK3d1daJrGSVnMjWYhwhCGoYhZmGTGLGL//X5f+DbOggSMBIHKwk0ijmMMBgN0Oh10Oh3UajUAuNI1aIZ5V4QwnCc0WC4/JWcsnvb5RccNkCMxCALhUJxmLdBnZSfopKwz+hz9oe+UxY7b7DG3ASEMlUoFq6urM4mD7N2nQXJ0dIRmsznXgz0Pw+EQr169gm3baLfbp4pCr9cTg/y0gT0cDrG7u4ujo6Mx5+m04CqGuanowInnslgs4v79+2K5bRpy+DPlHvi+j36/f62EwfM87O/vAzg9zTtJEgyHwzP9COnvPOt7GeYmIywGz/PQ7XbPDFOW8yMoPoBM9uvEeWIjzvM5FgNmnlBUMCUfXmmuRJIkaDQaGA6HMy2xyVMJMsH7/f7cD5ZhbjsUhThrAuG8EObBaYlIMqdlV87KJPG5iDJOqgp10dgBtgSY6wRF5F4VC6/5ePfuXXzyyScoFAritXq9jqdPn6JarZ65PQ18VVVFeHIYhsJpWCwWUSgUROxCGIYi5JlIkgSmacJxHCiKIhrWcK4Gw5ywcGF49OgR/vKXv4hwYwD47rvvUK1WZxYGUlMq/jIcDhEEARRFwcrKCra2tuB5Ho6Pj+H7vsiXp3hwACgUClhfX4eu6/j+++/PHTHGMLeZhdRjIJIkgWVZKJfLWFlZEa+XSqUzV0POg+wknJSkJcdfcFYnw2SZqzDIlW1ocOZyOVGdmTiPKMiDvN/vixRSer1Wq2EwGIwlN8lTCdq20WigVqtBURRR9o1hmBPmKgy6rsO2bWHCk8VgGMbYsqiu6+eOuqSIQ1reISg0+byw85FhfmKuwkCRhLquw3EcmKaJfD5/qVWZJzWrZZibTrpmwqKZqzDQqkAul8P29jZWV1extrZ2abUeGea2QVPiqw4anOsIpR8oV2XWdX1seRE4STy6jDm+XL+O9k//P6uJLU1JOLqRuUomJSgSVFg5zaTPpf/Qd9M4U1VV3PNULElmIY/uIAhweHgoqh51u11Rhw44qTwj5yBcFEVRUKlU4LouwjBEr9dDEASoVCpYWVmBqqrCigmCAIPBAHEcw7ZtmKaJIAhwfHzMUZzMtcR1XaytrcGyLOi6Dl3X0e/3sbe3N9YbRdd1bG1toVwuI5/PY3l5GZqmYX9/H3t7e7BtGx988AEqlQpev36Nr7/+GoPBYGxfCxOG/f19HBwc4Pnz5/jss8/GnuCUjPWuqKqK5eVlbG1tYTgc4uDgAMPhENvb2/j5z38OTdPQ7XYxHA4xGAxwfHyMMAxRKpVQLBbR7/cxGAxYGJhrSbFYxIcffgjXdZHL5WDbNqrVKlqt1pgwGIaBnZ0dPHz4EMvLy3j06BFs28a///1vAEC5XMaf/vQnPHz4EP/85z/x7NmzxQqD3GlXzsh8l7nTtJBnKmhJwU+GYSCXy4lq1FRvgo6J/lDhV9M04fs+l2Njri00BaeGSrQkn56GU6e1wWAA0zTRarVgWRb6/T48z8NoNEK73Uaj0RBWc5q5CoPjOHBdF0mSYDAYiPoFp1VEmoVpvgQiSRLYto379++LstikiGlRomKZlmXB933uY8lcW9rtNr799lvoug5N00QF8/TyfBAEePHiBQ4ODmCaJr788ksoioJWq4VGowHDMNBsNpHP51Gr1SZayHMPcMrn80LdSJnepbSb7EyZlERF6LqOcrksLAEqtUbHIH+eOmWdJ56CYRbNrHVDwjBErVYTZQYnQQWZpzFXYaACLmTa0ArFuzDJ0pA9ud1uF0dHRzBNU9SXkK0U+qzneeh0OkIoRqPRzCeeYW47c21qK9eRlJdUZp1GTMpJP8vHQN7aSUs18mflY5f9Db7vL7xYLXNz4aa2F2AeCUpnlWmTW29xPALDXIxbFYKYthKuOqyUYW4qt87TRtFhk6IdGYaZjRtnMZwW2qwoCnK5HHK5nIiXiOMYqqpC13WxbOp5noh1oLgHeTWCpiSe53E6NvNecuOEAZgev6BpGjY3N7G1tSXa4gVBgHw+j2KxCN/38ezZMxweHsKyLCwtLcGyLNi2LVqHk2Oy0Wjg7du3LAzMe8mNE4ZpKw30nuM4WFlZEaXePM9DqVTC0tISRqMRbNsGAFEazrZt5PN55PN5UTcijmPRi5JhroKLToOnjY3zbnPjhOG0HxzHMRqNBl6+fIkwDEUlJ0VR4LruWBZZEARot9sYDAZQVRX5fB5BEKDVamE0Gl1J812GSRceOg8UEQlg5pghTdNEGQS51eKNEwYAU+MhoijC/v6+iOqK41j4EFZWVsZOFhWLpSpTy8vL8DwPBwcHaDabp/a6ZJh5chFrgWJ4crmc6K42y/1L21BXd3p4zj2JSlXVsWCid+U8cQzAyQnzfV/UhpRDounEUXIKNd7lxrTMVZNeej/PNvTvWabCk2o3KIoyX2HI5/MolUqI4xjNZvPKwo0bjQa+++47AMiUiafpB0U8ptNPGWaR0MCm6N3zQNG759me2uBRBDBFcM5NGGjpsFwuIwxD9Pv9KxGGJEnQ7XbR7XYv9D7DXAVyOsF5kCs0zbr9pG3mJgxJksD3fZHvncvloGnaWOWkRUUlnrUfjo5kFo1cG6RSqaBQKMAwDDiOI7J8VVVFFEXodrvwPA+9Xg/1ev1C9UwURUE+n4fjOCKGh1K3yWE5Go1E7M9cpxK9Xg+j0QiWZeHu3bsol8toNBp48+aNKDDBcQLM+wiZ7Y7j4Le//S0eP36MUqmEBw8eIJ/Pi94rw+EQ//3vf3F0dIRnz57h008/vZAwqKqKjY0NPHz4EJZloVKpiBqsjuMgSRIcHh6iXq/P3/lIjkDymBYKBQyHw7GQ5YusuwLTPbezNMyVqz3JRWAvchwMc17IMWgYhujMtr6+juXlZXzwwQcoFosi6K7X66HX60FRFFSr1XdqdGvbNsrlsliFk+N45MLNcxcGIgxDVKtVDIdD9Ho9+L6PJEngui4cxxExBbOsBtBgVlUVuVwOhmGIKYuiKFheXkalUhE9LaIoEisNURTB8zwEQQDXdXHnzh0YhoF6vY56vT6xMi/DzIPl5WU8ePAAtm2j2+3i6dOnuHfvHra3t0WTJkVR0O/3cXx8jMPDQ7RarUtZQh8Oh/juu+/geZ6okappmojhARZcJfro6EgsXWqaBtd1sb6+juFwiNFodC5h0HVdCAtNWRRFwdraGn72s5+Jklee5wlBovlTGIZwXRcfffQR8vm8aGqbLubCMPNiZWUFH3/8MVRVxTfffIOvv/4anU4HT548QblcFvdhr9dDrVbD27dv0Wg0LqVWyGAwwDfffIOjoyPcvXsXvu/Dtm14nifG4EKEgQayqqpiYFL4MU03Zh2MNA0ggUlHeFHyE5WIp++n0nJyiztKprrKghjM+0kQBOj3+1BVdaytwsHBAVRVhWmaMAwD7XYb9XodnU5HFIG9KJ7niSrp9CAeDAbiAUpWNTDnCk6EYRi4c+eOKNFer9cRhqGothRFEQaDQUYNT6vgRCdP07SxBjau6yKfzwvRoAhG+ncQBIiiCLZto1KpQFVV9Ho9dLtdbjjDnJuLVHCiEH3qddJqtdDv9+G6LnZ2duA4jvDDkbVNVnGn07mQ1UD7LBaLCMNQTBscx0GxWBSBiKJJ0yKEwbZtPHz4ECsrK2i1Wtjb24PneWK+P41JwsAw14nLLu12XVjIVIJSoIGT1vUUZchLlQxzPVnYqsTh4SFqtZow8dlkZ5jry0KEIUkSkaB0maRjFuSYBDmZRJ7+yNuc1eh2GnIcxGnbpvd3nn0wNweqEDYthoam27TMTk74dDPZSY1oAYxtT1Pr9HbTkJMFJ4VJp10A9L03Mu0awNhJpmAR4Key25qmwbZtaJomsitpdUQOBU0HWMm+EzqhVPpN7rFpmiZM0xSrK7QdXWxaBZFLx0VRNLGzMHNzURQFq6ur2NnZEddZURQRRxOGIY6Pj9FoNJDL5XD//n24rotqtYrd3V1RUAg4uaeKxSIMw4Bt27BtW2zf7/dRKpWwsbEBXddFHxRN00QEI40JGuxRFKHX62F/fx++72N9fR0bGxsAIO7PVquFo6OjzMrcjRYGuhB0IgGIlQc5AAo4WaoBTrLOyKlJS6iyKNAgp+VOAKJLlbz0aRiG6Nid7stJCkzCIBfQ4BoPt4+lpSU8evRIrJJRV3Xyp0VRhFarhVwuh52dHWxubuL777/HwcGBWGEgJ2a5XEYul4PruiiXy2JZ0fd9lMtlfPTRR7BtG41GA91uF4ZhiI5rcm1TWrI/PDwUzZtXV1fx+PFjcXxRFGFvbw+NRiOznH9thUFVVREWSrEJ6UFFjWIsyxKDNN30kwSESrfJokAXUu5kRReSvhuAaDsux0VQnLssLEEQiGIXJBK8BPr+kJ4G0L8dx0GlUkGxWIRpmpnt6D40DENE6soZj6ZpivBl4KdsSLpPwzAcu4/pM1EUQdd1sV/LssTgJ+uVersC401urq0waJqGjY0NrK2todPpYHd3dyxtm4SDVPbOnTvCrKeybBRAUqlUsL29PWZm2bYN13XHlkODIEC9Xhf1HulPLpeDaZrwPA/VahW+72NpaQnr6+tjAkNRap7nodFoiPBS2YJgbh9kYdLTmqaN5GTf2NjAnTt3xEOMlumpBgKJRhiGGA6HotwgJTctLy+L+ByanlAZA9mqpQeeHDio6zoePXokrIlerzcWzwOcRGH6vo9GoyHqlVyJMMyS6EQnplKpiBOY/g5SWdu2USwWhTlGDkeaUqiqimKxKPwNsjDQVAOAMP+o5DyZZ/l8XnTMJnXN5/MiVZamLCQONH2QfxtbDbcX2b9E0BM7jmNRbFiO1qWHBD2xXdcV0Y/kqA/DUDwAbdsW01kA4jNxHAsxIOsB+KnmIyVO6bouIizTwkAlEeR7duHCcO/ePXzyySdwXVe8Vq/X8dVXX6FarYrXoihCs9mEqqro9/uZaK84jjN9HxRFQafTyZhUg8EAh4eH0DRNXCwKN5UFJwxDkcxFufKKooi5nO/74sIdHx8L4bEsC6qqYjgcotVqIQgCYS3IfgsWhttJu93Gq1evhM9KURQx/U2SRJjx8gOiVquJe5Ge4mEYYjQajcX9yKsI8uClQU6Ru3J9BwBj9zmNI/JVkIUD/JQBTcdLLFwYHj9+jL/+9a/Y3t4Wr3377bc4OjrKCEO1WkWz2Rz7IUQcx+j3+2LgUstvUkF5ELbbbfR6vbHXJy0LpWtTpueK8vvdbheHh4dj78vZmbJgTVoOYm4HNMgpuxcYXzan/6dXv+SKzM1mE+12e+y+IdM+jfw95NyetAR/2r7le3CS4x24AmGgRi+rq6vitUqlknHKkBhMG0jyiZ/m6Zffv+zVAF5dYAhKyHuX7dP301X7o7ijCsMwGVgYGIbJwMLAMEwGFgaGYTLM3fmY9ojSsgwFZtDSzrs4W6YlKk1KcpqlCQevHDDvyrT7LH1vpVfH5PiG83ahSq+oyQmE8ufkZVO5Y9XCciVc1810ovrhhx/w97//HZVKReQQvH37Viz9zYp80iiqC8BYqKe8jEjbUMksIHuRKCT6MurqMe831COC4gcopiGdzWgYBnZ2drC+vo52u40ff/wRg8EA9+7dw4MHDwD8VMOEAvoURRHhy4ZhiMSrvb09vHjxQkRbLi0tidibKIpQKBTgui5GoxF2d3fR6XRQqVRw7949aJqGfr8vOrHNtRNVqVTCvXv3xIkZDod4/vw53rx5I8JDLcsSXaYvuh9N00TEIwU9pbMaqc5kLpdDLpebaKGQqLAwMO+KaZri4ddut8eS7GR0Xcfjx4/xq1/9Cq9fv8bh4SFGoxEePHiAP/7xjwCAo6Mj9Ho9kROkKAp6vR4GgwEcx8Hdu3fhOA4+//xzvHr1CgDw4MEDPHz4EN1uV2RXbmxsYHNzE+12W3RfW1lZwW9+8xvYto2DgwMcHx+fHNc8T478BKauuqSkpHqkZheJC5A79gCYGDoNQGRgUmIURaeRgtP/SVAY5jKYdTpAZr2u6yiVSkiSRHStlpHT/j3Pw2g0GsvPoPBnmiKMRiORlxEEgXg4U4NnAMIKMQxjrAn1XFvUNZtNeJ4HwzBQKpWwvr6Ora0tfPzxxzBNE59++in+9a9/ifDN86DrOiqVCmzbFkUykyRBoVAQySYUvuw4DgqFghAA4CfrQJ6TXaRXIMNMgwafnGmbvs/jOEatVsPLly8BAE+ePAFwMsV49eqVSAqkwUx/dzoddLtdLC0tibYJpVIJf/jDHzAajfDmzRt88cUXIuM3jmNUq1U8f/5cFINNE0XRYvpKDIdDDIdD5HI5rK+vY3V1FR988AF+//vfw7IsPHv2LFP+fVYo69F13bGEFcMwxDyq3+8jSRIYhoFCoQBN08RUQy7IQpYEWwzMZUECIKc4T6vy1e12cXx8jHK5jAcPHiCXy+Ho6AiHh4ei1yt1Ym82m/B9H61WC91uF4PBADs7O6IMwEcffYRer4cXL17g5cuXpzrS0/e6nBG6sGKwlM5pWRa++OILGIaB3d3dC68AUHJUkiQYjUZioFPtfLngrO/7IldCFhFSccqBn0foNPN+EscxhsOhKAF/2ue63S6q1apoimRZFlqtFprN5lglKMr+paQn4KQR7f7+PobDISzLGrOgZ6Hb7YoEMMpNAhZUPl4ukEI+BgCiL980TisfT6nN5BtIl2GTy6zJWWfp46fvIrjRLnMeppWPp/m6nFwHTF6upAphtLqmqurY4JeX+tPjjZz4sr+NRGmW/A3TNEUpAdl6X4gwXBTuK8Fcd25rXwn2tjEMk4GFgWGYDJfmfDxvCOeiv49h5oVcePi2cCnCQDEAl+0P4LgC5rpDBYVum8N6IRbDu3RjmqVw7FmfP8++L0v15f2c1bFqVmb9nlkTeGb5/vOe//N896TXz3OvnOdazTMx7izH+3kSqs7z/rty2vmeaxwDiYVlWdjc3ESpVEKr1cLbt2/PXEqRG7VQXX1d10WM96QLQdWgC4WCeI2qRVNgU7rDtnzyqXkH5W9Qfwr6HdTdalI2Gu1nMBiIeAgKt053xDrr6SLnechLsblcDrZtI4oiDAaDqevjlmWJysAUDnvWNnSe5RL7dE5p2Y1uIrmo6GnIBXUp7JbiTigByLbtsaQgXddF9e3hcCiqdqcHH91XlmWN3dy6rovX6FrTdaflazkLcd4oioJ8Pi9KwdPxyOdQDtWXk6Qo8YrI5XIoFovQdR2e52WugVx0djAYwPd9UcVc13UxnqhNwnA4hG3bKBQKY/kXlxLgdJqVQDdVPp/Hxx9/jIcPH+L58+doNBozCQNd+EKhgM3NTViWhd3d3amxD5qmYW1tDVtbW+I1iixrt9sIgkAEjUyq2mxZFra2tlCpVEQ0Gg1uGuBLS0uZ7Ez6rk6ng8PDQ3HRPc+DaZoolUqwbVsEXs0iDHL3K4rILBaLWF5eFv0Epg3yfD6PnZ0d5HI59Pt99Ho9UX34NGHI5/Nin9Q6Tc4xobh8qqR9FlSCX9M0EZYexzEajQbiOEYul8PS0hJUVRWC7zgOtra24LouarUa9vf3x0qlyziOg6WlpcxvL5fLUFVVFAH2PE8c86LNflVVRd8TCm8OgkAEMwEQGb+maSKfz0PTtMw5puv/8OFDmKaJZrOJbrc7FmZdLBaxtLSEOI5xeHiIVqsF13Vx584d0YPFtm30+31888038DwPrutie3sbiqJgb29vftmVcrozqZRt28jn8ygWi+IJMcv30BOHniwUyDELcrKU53linfksvwU9OQ3DgGVZiKJICAMpMhWuTQuD7/tiP+ntbNsea5iT/p10bPITVg7KkgO65JyPWc6DbdtC4KZBVgqdX9onJddQYx3gJA34tO+hv+kPbU/HYVmW6OZlmuZYly/qPkY38rTfSucjbTFQDwaKL9B1XXRkmnfw2jRLj+7hOI7FOaSnNwXg0R96fdK1IouCfheF8dNn6T3qNUH3E/VZpWspXxPZapN9hO8sDOm5qNxMtlwuiy47lUpF3AizCgPFf5Mo0NNn2vZRFIlS3vl8Hpubm+JJZZomRqMRer0eut3uxO0pYozCSSuVijgWuihyA1EZurD0tK3X66KxDU1vqLGujK7rcBxHJJpRgx160tGApGy5Vqt1Zs2Ifr+PV69ewbIsrKysYG1tDYPBAPV6feo2ZDHQ4JVLk9M1LZfLUJSTwjpU1n8SJGryjV4sFrG+vg7g5Mnm+z5M00Qul4OqqlhdXRVmNd0/dDOTgy+N4zhYWVkZG0Q07QQgLEvDMLC8vIwkSdBqtVCv1+cS+q7rOtbW1uC6Lnq9HqrVaqadAQ1O4KeiKRRxKBdQSSNPp+SgQjlakiw6OSmRBCoIAtRqNZE8pes67ty5g1KphEKhIHKKxG+57JNDDVgMwxCt4QqFAorFonjiz/q0k7v+yjfbNOL4pHtvq9VCpVLB2tqa6Aacy+XOtDhoLkpzL7mFnSwOdByy+spFYciX0O/3hZgUCoUx/wRBx2fbNtbW1rC9vS2akZJpXSwWAQB7e3uo1+tnJp55noejoyNomibEhub405B7JE7CdV2srq5CURRUq9VTp5D0hEy3+aNpQ7FYzAgPCT/lu5BFIc+/0/uxbRulUmnMsqKnoJyCT9YK+Xkm9Wu4DCjjd3V1FfV6XQiQPNhlS5AaIPV6vYyApP1X8p90AyOyzOU+qvJ2VDWt0Wjg9evXME0TW1tb4oGVy+VEH0zxWy775JCDBThR7Hq9Dt/30W63kcvlRMLTLN9DDWoB4Pj4GIZhoNfrnbo9vRcEgSiQQUxy2MikE1+oRRgNAhIGWRDodXIY9Xo90YMwDEOR/k1JX5PSbul8kV8jiiKROSfPien/0zL10ucgSRL0+31Uq1XRNXkacsrtJOhcUGewafunG1F2vlK3pVqtBkVRxHuyqJJPBYDww5BfaJJfgBxsjUZjbECkfSHUB5KOf9b77yLQNe50OsJpKif2ARDXTm5eS78RgOibSveEfKx0T9M4IAuUBjX5tmRHM1mZuq6L3x5FkehiJXe5lq//peRKABh7aqY90a7r4te//jW2t7fx8uVLfP7552dmf8mrErK3lgpUnHVx5aeEfOzkEU+fdPoN8pNuUr/MScuy9H85cYsuNk2J6GKn2+rRfuR5vGxeysdBnnsAM3nW6alK04OzViVkM3fS+2TtUbGPSftPnyP6W84nmLSdLMB0fuh8TcrFmbYqQftOXwP6XSTW8xAHspbJgUvHLltr6fEj/zZ57MhWoWxt0O+dVMJQ/p20EpVe6fB9f8yHJU9B6OGRJMnlC8MkXNfFkydPcPfuXbx58wZPnz6dOs9nGObqOfdUgtQ4/UQ4Dd/3sbu7i263K5xnDMNcX8YshlmdgrLVIFdgnrqTCcs4iwowYRjm/FxKgNMsoZtceZlhbg5jwnDRp/gk50/69UWGoTIM827MxWKg189KCmEY5npyaWnX05aM0p9jGOb6807CkBaD9Bq47Jxka4Fhbg6XVgnlNGuARYFhbhYTLQZ5kMtJUmdNBSbFaae/j2GY68/UqUTaR3CWMExbdWBRYJibx6lTCR7UDPN+cqbzUU4Qkv9Ow34Ehrk9nGtV4ixxYBjmdjDV+Sj7GFgIGOb9YkwYJoUysygwzPvHRItBTqtmmDTpoir88Lh9TBUGvtjMJBRFQaFQQKFQQBiGaLfbM7VbZ24WE5crT6tWy7zfULm4paUllEqlUwvMMjcXbg7JMEyGS6nHwDDM7YItBubccBfy289cm9oytwcqLy+XkacS7nJZd7lsO3NzYWFgZoIa08o9LKmLlmxBUHs9FoabDQsDMzOTVqvScQyL7CTNzA8WBmYmwjBEv98XU4p8Pi9anVHrdPmzzM2GhYGZCWrWS30ggZ/8CRzgdPtg9zJzLqiOp+d5mT6czO2BLQbm3FD35jAMedpwS2GLgTk3URSJbswcFHc7YYuBORfkVxgMBqIPKXP7YGFgzk0QBAiC4KoPg5kjPJVgGCYDCwPDMBlYGBiGycDCwDBMBhYGhmEysDAwDJOBhYFhmAwsDAzDZGBhYBgmAwsDwzAZWBgYhsnAwsAwTAYWBoZhMrAwMAyTgYWBYZgMLAwMw2RgYWAYJgMLA8MwGVgYGIbJwMLAMEwGFgaGYTKwMDAMk4GFgWGYDCwMDMNkYGFgGCYDCwPDMBlYGBiGycDCwDBMBhYGhmEysDAwDJOBhYFhmAwsDAzDZGBhYBgmAwsDwzAZWBgYhsnAwsAwTAYWBoZhMrAwMAyTgYWBYZgMLAwMw2RgYWAYJgMLA8MwGVgYGIbJwMLAMEwGFgaGYTKwMDAMk4GFgWGYDCwMDMNkYGFgGCYDCwPDMBlYGBiGycDCwDBMBhYGhmEysDAwDJOBhYFhmAwsDAzDZGBhYBgmAwsDwzAZWBgYhsnAwsAwTAYWBoZhMrAwMAyTgYWBYZgMLAwMw2RgYWAYJgMLA8MwGVgYGIbJwMLAMEwGFgaGYTKwMDAMk4GFgWGYDCwMDMNk+D9mlTCiYkprqQAAAABJRU5ErkJggg==\" id=\"image3d175d79d9\" transform=\"scale(1 -1)translate(0 -218)\" x=\"26.925\" y=\"-9.129339\" width=\"262\" height=\"218\"/>\n   </g>\n   <g id=\"matplotlib.axis_1\">\n    <g id=\"xtick_1\">\n     <g id=\"line2d_1\">\n      <defs>\n       <path id=\"mb7275bce14\" d=\"M 0 0 \nL 0 3.5 \n\" style=\"stroke: #000000; stroke-width: 0.8\"/>\n      </defs>\n      <g>\n       <use xlink:href=\"#mb7275bce14\" x=\"28.23488\" y=\"227.129339\" style=\"stroke: #000000; stroke-width: 0.8\"/>\n      </g>\n     </g>\n     <g id=\"text_1\">\n      <!-- 0 -->\n      <g transform=\"translate(25.05363 241.727777)scale(0.1 -0.1)\">\n       <defs>\n        <path id=\"DejaVuSans-30\" d=\"M 2034 4250 \nQ 1547 4250 1301 3770 \nQ 1056 3291 1056 2328 \nQ 1056 1369 1301 889 \nQ 1547 409 2034 409 \nQ 2525 409 2770 889 \nQ 3016 1369 3016 2328 \nQ 3016 3291 2770 3770 \nQ 2525 4250 2034 4250 \nz\nM 2034 4750 \nQ 2819 4750 3233 4129 \nQ 3647 3509 3647 2328 \nQ 3647 1150 3233 529 \nQ 2819 -91 2034 -91 \nQ 1250 -91 836 529 \nQ 422 1150 422 2328 \nQ 422 3509 836 4129 \nQ 1250 4750 2034 4750 \nz\n\" transform=\"scale(0.015625)\"/>\n       </defs>\n       <use xlink:href=\"#DejaVuSans-30\"/>\n      </g>\n     </g>\n    </g>\n    <g id=\"xtick_2\">\n     <g id=\"line2d_2\">\n      <g>\n       <use xlink:href=\"#mb7275bce14\" x=\"80.63006\" y=\"227.129339\" style=\"stroke: #000000; stroke-width: 0.8\"/>\n      </g>\n     </g>\n     <g id=\"text_2\">\n      <!-- 20 -->\n      <g transform=\"translate(74.26756 241.727777)scale(0.1 -0.1)\">\n       <defs>\n        <path id=\"DejaVuSans-32\" d=\"M 1228 531 \nL 3431 531 \nL 3431 0 \nL 469 0 \nL 469 531 \nQ 828 903 1448 1529 \nQ 2069 2156 2228 2338 \nQ 2531 2678 2651 2914 \nQ 2772 3150 2772 3378 \nQ 2772 3750 2511 3984 \nQ 2250 4219 1831 4219 \nQ 1534 4219 1204 4116 \nQ 875 4013 500 3803 \nL 500 4441 \nQ 881 4594 1212 4672 \nQ 1544 4750 1819 4750 \nQ 2544 4750 2975 4387 \nQ 3406 4025 3406 3419 \nQ 3406 3131 3298 2873 \nQ 3191 2616 2906 2266 \nQ 2828 2175 2409 1742 \nQ 1991 1309 1228 531 \nz\n\" transform=\"scale(0.015625)\"/>\n       </defs>\n       <use xlink:href=\"#DejaVuSans-32\"/>\n       <use xlink:href=\"#DejaVuSans-30\" x=\"63.623047\"/>\n      </g>\n     </g>\n    </g>\n    <g id=\"xtick_3\">\n     <g id=\"line2d_3\">\n      <g>\n       <use xlink:href=\"#mb7275bce14\" x=\"133.025241\" y=\"227.129339\" style=\"stroke: #000000; stroke-width: 0.8\"/>\n      </g>\n     </g>\n     <g id=\"text_3\">\n      <!-- 40 -->\n      <g transform=\"translate(126.662741 241.727777)scale(0.1 -0.1)\">\n       <defs>\n        <path id=\"DejaVuSans-34\" d=\"M 2419 4116 \nL 825 1625 \nL 2419 1625 \nL 2419 4116 \nz\nM 2253 4666 \nL 3047 4666 \nL 3047 1625 \nL 3713 1625 \nL 3713 1100 \nL 3047 1100 \nL 3047 0 \nL 2419 0 \nL 2419 1100 \nL 313 1100 \nL 313 1709 \nL 2253 4666 \nz\n\" transform=\"scale(0.015625)\"/>\n       </defs>\n       <use xlink:href=\"#DejaVuSans-34\"/>\n       <use xlink:href=\"#DejaVuSans-30\" x=\"63.623047\"/>\n      </g>\n     </g>\n    </g>\n    <g id=\"xtick_4\">\n     <g id=\"line2d_4\">\n      <g>\n       <use xlink:href=\"#mb7275bce14\" x=\"185.420422\" y=\"227.129339\" style=\"stroke: #000000; stroke-width: 0.8\"/>\n      </g>\n     </g>\n     <g id=\"text_4\">\n      <!-- 60 -->\n      <g transform=\"translate(179.057922 241.727777)scale(0.1 -0.1)\">\n       <defs>\n        <path id=\"DejaVuSans-36\" d=\"M 2113 2584 \nQ 1688 2584 1439 2293 \nQ 1191 2003 1191 1497 \nQ 1191 994 1439 701 \nQ 1688 409 2113 409 \nQ 2538 409 2786 701 \nQ 3034 994 3034 1497 \nQ 3034 2003 2786 2293 \nQ 2538 2584 2113 2584 \nz\nM 3366 4563 \nL 3366 3988 \nQ 3128 4100 2886 4159 \nQ 2644 4219 2406 4219 \nQ 1781 4219 1451 3797 \nQ 1122 3375 1075 2522 \nQ 1259 2794 1537 2939 \nQ 1816 3084 2150 3084 \nQ 2853 3084 3261 2657 \nQ 3669 2231 3669 1497 \nQ 3669 778 3244 343 \nQ 2819 -91 2113 -91 \nQ 1303 -91 875 529 \nQ 447 1150 447 2328 \nQ 447 3434 972 4092 \nQ 1497 4750 2381 4750 \nQ 2619 4750 2861 4703 \nQ 3103 4656 3366 4563 \nz\n\" transform=\"scale(0.015625)\"/>\n       </defs>\n       <use xlink:href=\"#DejaVuSans-36\"/>\n       <use xlink:href=\"#DejaVuSans-30\" x=\"63.623047\"/>\n      </g>\n     </g>\n    </g>\n    <g id=\"xtick_5\">\n     <g id=\"line2d_5\">\n      <g>\n       <use xlink:href=\"#mb7275bce14\" x=\"237.815602\" y=\"227.129339\" style=\"stroke: #000000; stroke-width: 0.8\"/>\n      </g>\n     </g>\n     <g id=\"text_5\">\n      <!-- 80 -->\n      <g transform=\"translate(231.453102 241.727777)scale(0.1 -0.1)\">\n       <defs>\n        <path id=\"DejaVuSans-38\" d=\"M 2034 2216 \nQ 1584 2216 1326 1975 \nQ 1069 1734 1069 1313 \nQ 1069 891 1326 650 \nQ 1584 409 2034 409 \nQ 2484 409 2743 651 \nQ 3003 894 3003 1313 \nQ 3003 1734 2745 1975 \nQ 2488 2216 2034 2216 \nz\nM 1403 2484 \nQ 997 2584 770 2862 \nQ 544 3141 544 3541 \nQ 544 4100 942 4425 \nQ 1341 4750 2034 4750 \nQ 2731 4750 3128 4425 \nQ 3525 4100 3525 3541 \nQ 3525 3141 3298 2862 \nQ 3072 2584 2669 2484 \nQ 3125 2378 3379 2068 \nQ 3634 1759 3634 1313 \nQ 3634 634 3220 271 \nQ 2806 -91 2034 -91 \nQ 1263 -91 848 271 \nQ 434 634 434 1313 \nQ 434 1759 690 2068 \nQ 947 2378 1403 2484 \nz\nM 1172 3481 \nQ 1172 3119 1398 2916 \nQ 1625 2713 2034 2713 \nQ 2441 2713 2670 2916 \nQ 2900 3119 2900 3481 \nQ 2900 3844 2670 4047 \nQ 2441 4250 2034 4250 \nQ 1625 4250 1398 4047 \nQ 1172 3844 1172 3481 \nz\n\" transform=\"scale(0.015625)\"/>\n       </defs>\n       <use xlink:href=\"#DejaVuSans-38\"/>\n       <use xlink:href=\"#DejaVuSans-30\" x=\"63.623047\"/>\n      </g>\n     </g>\n    </g>\n   </g>\n   <g id=\"matplotlib.axis_2\">\n    <g id=\"ytick_1\">\n     <g id=\"line2d_6\">\n      <defs>\n       <path id=\"m5c96ddaaf8\" d=\"M 0 0 \nL -3.5 0 \n\" style=\"stroke: #000000; stroke-width: 0.8\"/>\n      </defs>\n      <g>\n       <use xlink:href=\"#m5c96ddaaf8\" x=\"26.925\" y=\"10.999219\" style=\"stroke: #000000; stroke-width: 0.8\"/>\n      </g>\n     </g>\n     <g id=\"text_6\">\n      <!-- 0 -->\n      <g transform=\"translate(13.5625 14.798437)scale(0.1 -0.1)\">\n       <use xlink:href=\"#DejaVuSans-30\"/>\n      </g>\n     </g>\n    </g>\n    <g id=\"ytick_2\">\n     <g id=\"line2d_7\">\n      <g>\n       <use xlink:href=\"#m5c96ddaaf8\" x=\"26.925\" y=\"37.196809\" style=\"stroke: #000000; stroke-width: 0.8\"/>\n      </g>\n     </g>\n     <g id=\"text_7\">\n      <!-- 10 -->\n      <g transform=\"translate(7.2 40.996028)scale(0.1 -0.1)\">\n       <defs>\n        <path id=\"DejaVuSans-31\" d=\"M 794 531 \nL 1825 531 \nL 1825 4091 \nL 703 3866 \nL 703 4441 \nL 1819 4666 \nL 2450 4666 \nL 2450 531 \nL 3481 531 \nL 3481 0 \nL 794 0 \nL 794 531 \nz\n\" transform=\"scale(0.015625)\"/>\n       </defs>\n       <use xlink:href=\"#DejaVuSans-31\"/>\n       <use xlink:href=\"#DejaVuSans-30\" x=\"63.623047\"/>\n      </g>\n     </g>\n    </g>\n    <g id=\"ytick_3\">\n     <g id=\"line2d_8\">\n      <g>\n       <use xlink:href=\"#m5c96ddaaf8\" x=\"26.925\" y=\"63.394399\" style=\"stroke: #000000; stroke-width: 0.8\"/>\n      </g>\n     </g>\n     <g id=\"text_8\">\n      <!-- 20 -->\n      <g transform=\"translate(7.2 67.193618)scale(0.1 -0.1)\">\n       <use xlink:href=\"#DejaVuSans-32\"/>\n       <use xlink:href=\"#DejaVuSans-30\" x=\"63.623047\"/>\n      </g>\n     </g>\n    </g>\n    <g id=\"ytick_4\">\n     <g id=\"line2d_9\">\n      <g>\n       <use xlink:href=\"#m5c96ddaaf8\" x=\"26.925\" y=\"89.59199\" style=\"stroke: #000000; stroke-width: 0.8\"/>\n      </g>\n     </g>\n     <g id=\"text_9\">\n      <!-- 30 -->\n      <g transform=\"translate(7.2 93.391209)scale(0.1 -0.1)\">\n       <defs>\n        <path id=\"DejaVuSans-33\" d=\"M 2597 2516 \nQ 3050 2419 3304 2112 \nQ 3559 1806 3559 1356 \nQ 3559 666 3084 287 \nQ 2609 -91 1734 -91 \nQ 1441 -91 1130 -33 \nQ 819 25 488 141 \nL 488 750 \nQ 750 597 1062 519 \nQ 1375 441 1716 441 \nQ 2309 441 2620 675 \nQ 2931 909 2931 1356 \nQ 2931 1769 2642 2001 \nQ 2353 2234 1838 2234 \nL 1294 2234 \nL 1294 2753 \nL 1863 2753 \nQ 2328 2753 2575 2939 \nQ 2822 3125 2822 3475 \nQ 2822 3834 2567 4026 \nQ 2313 4219 1838 4219 \nQ 1578 4219 1281 4162 \nQ 984 4106 628 3988 \nL 628 4550 \nQ 988 4650 1302 4700 \nQ 1616 4750 1894 4750 \nQ 2613 4750 3031 4423 \nQ 3450 4097 3450 3541 \nQ 3450 3153 3228 2886 \nQ 3006 2619 2597 2516 \nz\n\" transform=\"scale(0.015625)\"/>\n       </defs>\n       <use xlink:href=\"#DejaVuSans-33\"/>\n       <use xlink:href=\"#DejaVuSans-30\" x=\"63.623047\"/>\n      </g>\n     </g>\n    </g>\n    <g id=\"ytick_5\">\n     <g id=\"line2d_10\">\n      <g>\n       <use xlink:href=\"#m5c96ddaaf8\" x=\"26.925\" y=\"115.78958\" style=\"stroke: #000000; stroke-width: 0.8\"/>\n      </g>\n     </g>\n     <g id=\"text_10\">\n      <!-- 40 -->\n      <g transform=\"translate(7.2 119.588799)scale(0.1 -0.1)\">\n       <use xlink:href=\"#DejaVuSans-34\"/>\n       <use xlink:href=\"#DejaVuSans-30\" x=\"63.623047\"/>\n      </g>\n     </g>\n    </g>\n    <g id=\"ytick_6\">\n     <g id=\"line2d_11\">\n      <g>\n       <use xlink:href=\"#m5c96ddaaf8\" x=\"26.925\" y=\"141.987171\" style=\"stroke: #000000; stroke-width: 0.8\"/>\n      </g>\n     </g>\n     <g id=\"text_11\">\n      <!-- 50 -->\n      <g transform=\"translate(7.2 145.786389)scale(0.1 -0.1)\">\n       <defs>\n        <path id=\"DejaVuSans-35\" d=\"M 691 4666 \nL 3169 4666 \nL 3169 4134 \nL 1269 4134 \nL 1269 2991 \nQ 1406 3038 1543 3061 \nQ 1681 3084 1819 3084 \nQ 2600 3084 3056 2656 \nQ 3513 2228 3513 1497 \nQ 3513 744 3044 326 \nQ 2575 -91 1722 -91 \nQ 1428 -91 1123 -41 \nQ 819 9 494 109 \nL 494 744 \nQ 775 591 1075 516 \nQ 1375 441 1709 441 \nQ 2250 441 2565 725 \nQ 2881 1009 2881 1497 \nQ 2881 1984 2565 2268 \nQ 2250 2553 1709 2553 \nQ 1456 2553 1204 2497 \nQ 953 2441 691 2322 \nL 691 4666 \nz\n\" transform=\"scale(0.015625)\"/>\n       </defs>\n       <use xlink:href=\"#DejaVuSans-35\"/>\n       <use xlink:href=\"#DejaVuSans-30\" x=\"63.623047\"/>\n      </g>\n     </g>\n    </g>\n    <g id=\"ytick_7\">\n     <g id=\"line2d_12\">\n      <g>\n       <use xlink:href=\"#m5c96ddaaf8\" x=\"26.925\" y=\"168.184761\" style=\"stroke: #000000; stroke-width: 0.8\"/>\n      </g>\n     </g>\n     <g id=\"text_12\">\n      <!-- 60 -->\n      <g transform=\"translate(7.2 171.98398)scale(0.1 -0.1)\">\n       <use xlink:href=\"#DejaVuSans-36\"/>\n       <use xlink:href=\"#DejaVuSans-30\" x=\"63.623047\"/>\n      </g>\n     </g>\n    </g>\n    <g id=\"ytick_8\">\n     <g id=\"line2d_13\">\n      <g>\n       <use xlink:href=\"#m5c96ddaaf8\" x=\"26.925\" y=\"194.382351\" style=\"stroke: #000000; stroke-width: 0.8\"/>\n      </g>\n     </g>\n     <g id=\"text_13\">\n      <!-- 70 -->\n      <g transform=\"translate(7.2 198.18157)scale(0.1 -0.1)\">\n       <defs>\n        <path id=\"DejaVuSans-37\" d=\"M 525 4666 \nL 3525 4666 \nL 3525 4397 \nL 1831 0 \nL 1172 0 \nL 2766 4134 \nL 525 4134 \nL 525 4666 \nz\n\" transform=\"scale(0.015625)\"/>\n       </defs>\n       <use xlink:href=\"#DejaVuSans-37\"/>\n       <use xlink:href=\"#DejaVuSans-30\" x=\"63.623047\"/>\n      </g>\n     </g>\n    </g>\n    <g id=\"ytick_9\">\n     <g id=\"line2d_14\">\n      <g>\n       <use xlink:href=\"#m5c96ddaaf8\" x=\"26.925\" y=\"220.579942\" style=\"stroke: #000000; stroke-width: 0.8\"/>\n      </g>\n     </g>\n     <g id=\"text_14\">\n      <!-- 80 -->\n      <g transform=\"translate(7.2 224.37916)scale(0.1 -0.1)\">\n       <use xlink:href=\"#DejaVuSans-38\"/>\n       <use xlink:href=\"#DejaVuSans-30\" x=\"63.623047\"/>\n      </g>\n     </g>\n    </g>\n   </g>\n   <g id=\"patch_3\">\n    <path d=\"M 26.925 227.129339 \nL 26.925 9.689339 \n\" style=\"fill: none; stroke: #000000; stroke-width: 0.8; stroke-linejoin: miter; stroke-linecap: square\"/>\n   </g>\n   <g id=\"patch_4\">\n    <path d=\"M 288.900904 227.129339 \nL 288.900904 9.689339 \n\" style=\"fill: none; stroke: #000000; stroke-width: 0.8; stroke-linejoin: miter; stroke-linecap: square\"/>\n   </g>\n   <g id=\"patch_5\">\n    <path d=\"M 26.925 227.129339 \nL 288.900904 227.129339 \n\" style=\"fill: none; stroke: #000000; stroke-width: 0.8; stroke-linejoin: miter; stroke-linecap: square\"/>\n   </g>\n   <g id=\"patch_6\">\n    <path d=\"M 26.925 9.689339 \nL 288.900904 9.689339 \n\" style=\"fill: none; stroke: #000000; stroke-width: 0.8; stroke-linejoin: miter; stroke-linecap: square\"/>\n   </g>\n  </g>\n </g>\n <defs>\n  <clipPath id=\"pda563d78f9\">\n   <rect x=\"26.925\" y=\"9.689339\" width=\"261.975904\" height=\"217.44\"/>\n  </clipPath>\n </defs>\n</svg>\n",
      "text/plain": [
       "<Figure size 432x288 with 1 Axes>"
      ]
     },
     "metadata": {
      "needs_background": "light"
     },
     "output_type": "display_data"
    }
   ],
   "source": [
    "obs = env.get_observation()\n",
    "plt.imshow(obs, cmap='gray')"
   ]
  },
  {
   "cell_type": "code",
   "execution_count": 19,
   "metadata": {},
   "outputs": [
    {
     "name": "stdout",
     "output_type": "stream",
     "text": [
      "GAME\n"
     ]
    },
    {
     "data": {
      "text/plain": [
       "True"
      ]
     },
     "execution_count": 19,
     "metadata": {},
     "output_type": "execute_result"
    }
   ],
   "source": [
    "env.get_done()"
   ]
  },
  {
   "cell_type": "markdown",
   "metadata": {},
   "source": [
    "### 2.2 Test env"
   ]
  },
  {
   "cell_type": "markdown",
   "metadata": {},
   "source": [
    "## 3. Train model"
   ]
  },
  {
   "cell_type": "markdown",
   "metadata": {},
   "source": [
    "## 4. Test model"
   ]
  },
  {
   "cell_type": "markdown",
   "metadata": {},
   "source": []
  }
 ],
 "metadata": {
  "kernelspec": {
   "display_name": "Python 3.7.13 ('gym-retro')",
   "language": "python",
   "name": "python3"
  },
  "language_info": {
   "codemirror_mode": {
    "name": "ipython",
    "version": 3
   },
   "file_extension": ".py",
   "mimetype": "text/x-python",
   "name": "python",
   "nbconvert_exporter": "python",
   "pygments_lexer": "ipython3",
   "version": "3.7.13"
  },
  "orig_nbformat": 4,
  "vscode": {
   "interpreter": {
    "hash": "e608e2728d1a3bb01c8b16bfa478f64dc18d9fc1a9d125dd266a8fc3b50b9977"
   }
  }
 },
 "nbformat": 4,
 "nbformat_minor": 2
}
